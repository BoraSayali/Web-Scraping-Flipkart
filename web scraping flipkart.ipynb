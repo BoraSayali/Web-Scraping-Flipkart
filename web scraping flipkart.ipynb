{
 "cells": [
  {
   "cell_type": "code",
   "execution_count": 61,
   "id": "7fc33e94",
   "metadata": {},
   "outputs": [],
   "source": [
    "# import libraries\n",
    "from bs4 import BeautifulSoup\n",
    "import requests"
   ]
  },
  {
   "cell_type": "code",
   "execution_count": 65,
   "id": "d1aa93b3",
   "metadata": {},
   "outputs": [
    {
     "name": "stdout",
     "output_type": "stream",
     "text": [
      "Enter number of pages4\n",
      "Phone in page 1\n",
      "24\n",
      "Phone in page 2\n",
      "24\n",
      "Phone in page 3\n",
      "24\n",
      "Phone in page 4\n",
      "24\n"
     ]
    }
   ],
   "source": [
    "phn_nm = []\n",
    "phn_pr=[]\n",
    "phn_rat=[]\n",
    "phn_stars=[]\n",
    "\n",
    "\n",
    "page_num = input(\"Enter number of pages\")\n",
    "for i in range(1,int(page_num)+1):\n",
    "    url = \"https://www.flipkart.com/search?q=mi+mobiles&page=1\"+str(i)\n",
    "    req = requests.get(url)\n",
    "    content=BeautifulSoup(req.content,'html.parser')\n",
    "    name=content.find_all('div', {\"class\":\"_4rR01T\"})\n",
    "    price=content.find_all('div', {\"class\":\"_30jeq3 _1_WHN1\"})\n",
    "    rating=content.find_all('span',{\"class\":\"_2_R_DZ\"})\n",
    "    stars=content.find_all('span',{\"class\":\"_1lRcqv\"})\n",
    "    \n",
    "    print(\"Phone in page \"+str(i))\n",
    "    print(len(name))\n",
    "    \n",
    "    for i in name:\n",
    "        phn_nm.append(i.text)\n",
    "    for i in price:\n",
    "        phn_pr.append(i.text)\n",
    "    for i in rating:\n",
    "        phn_rat.append(i.text)\n",
    "    for i in stars:\n",
    "        phn_stars.append(i.text)\n",
    "\n",
    "        "
   ]
  },
  {
   "cell_type": "code",
   "execution_count": 66,
   "id": "66993f9c",
   "metadata": {},
   "outputs": [],
   "source": [
    "import pandas as pd"
   ]
  },
  {
   "cell_type": "code",
   "execution_count": 67,
   "id": "0d4fb840",
   "metadata": {},
   "outputs": [
    {
     "name": "stdout",
     "output_type": "stream",
     "text": [
      "                                         Phone name Phone price  \\\n",
      "0          REDMI Note 10 Pro (Glacial Blue, 128 GB)     ₹20,899   \n",
      "1         REDMI Note 10 Pro (Vintage Bronze, 64 GB)     ₹17,999   \n",
      "2                REDMI 9 Prime (Matte Black, 64 GB)      ₹9,990   \n",
      "3   REDMI Note 10 Lite (Interstellar Black, 128 GB)     ₹15,990   \n",
      "4                 REDMI 9 Power (Fiery Red, 128 GB)     ₹13,499   \n",
      "..                                              ...         ...   \n",
      "91          REDMI Note 10 Pro (Glacial Blue, 64 GB)     ₹17,999   \n",
      "92            REDMI Note 10 Pro (Dark Night, 64 GB)     ₹17,999   \n",
      "93            REDMI 10 Prime (Bifrost Blue, 128 GB)     ₹13,999   \n",
      "94                 REDMI 8A Dual (Sky White, 32 GB)      ₹7,499   \n",
      "95             REDMI Note 11S (Polar White, 128 GB)     ₹17,999   \n",
      "\n",
      "                         Phone rating Phone stars  \n",
      "0         2,452 Ratings & 194 Reviews         4.3  \n",
      "1      14,966 Ratings & 1,407 Reviews         4.3  \n",
      "2   2,21,625 Ratings & 15,114 Reviews         4.4  \n",
      "3         1,901 Ratings & 148 Reviews         4.3  \n",
      "4      47,332 Ratings & 3,682 Reviews         4.3  \n",
      "..                                ...         ...  \n",
      "91     14,966 Ratings & 1,407 Reviews         4.3  \n",
      "92     14,966 Ratings & 1,407 Reviews         4.3  \n",
      "93        3,199 Ratings & 251 Reviews         4.2  \n",
      "94     56,294 Ratings & 4,157 Reviews         4.3  \n",
      "95           358 Ratings & 35 Reviews         4.3  \n",
      "\n",
      "[96 rows x 4 columns]\n"
     ]
    }
   ],
   "source": [
    "data = {\"Phone name\":phn_nm, \"Phone price\":phn_pr, \"Phone rating\":phn_rat, \"Phone stars\":phn_stars}\n",
    "df = pd.DataFrame(data)\n",
    "print(df)"
   ]
  },
  {
   "cell_type": "code",
   "execution_count": 68,
   "id": "8024eaeb",
   "metadata": {
    "scrolled": true
   },
   "outputs": [],
   "source": [
    "df.to_csv(r'C:\\Users\\SAYALI BORA\\Desktop\\flipcart data.csv', index=False)"
   ]
  },
  {
   "cell_type": "code",
   "execution_count": null,
   "id": "1ed973d0",
   "metadata": {},
   "outputs": [],
   "source": []
  },
  {
   "cell_type": "code",
   "execution_count": null,
   "id": "53c085fe",
   "metadata": {},
   "outputs": [],
   "source": []
  }
 ],
 "metadata": {
  "kernelspec": {
   "display_name": "Python 3 (ipykernel)",
   "language": "python",
   "name": "python3"
  },
  "language_info": {
   "codemirror_mode": {
    "name": "ipython",
    "version": 3
   },
   "file_extension": ".py",
   "mimetype": "text/x-python",
   "name": "python",
   "nbconvert_exporter": "python",
   "pygments_lexer": "ipython3",
   "version": "3.9.7"
  }
 },
 "nbformat": 4,
 "nbformat_minor": 5
}
